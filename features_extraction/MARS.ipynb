{
  "nbformat": 4,
  "nbformat_minor": 0,
  "metadata": {
    "colab": {
      "provenance": []
    },
    "kernelspec": {
      "name": "python3",
      "display_name": "Python 3"
    },
    "language_info": {
      "name": "python"
    }
  },
  "cells": [
    {
      "cell_type": "code",
      "source": [],
      "metadata": {
        "id": "h0LvNB9boOkt"
      },
      "execution_count": null,
      "outputs": []
    },
    {
      "cell_type": "markdown",
      "source": [
        "# MARS IMAGE CLASSIFICATION"
      ],
      "metadata": {
        "id": "tA1SRh9owYfB"
      }
    },
    {
      "cell_type": "markdown",
      "source": [
        "##Importing Dependencies"
      ],
      "metadata": {
        "id": "NSJfS42moQ3M"
      }
    },
    {
      "cell_type": "code",
      "execution_count": null,
      "metadata": {
        "id": "LeTiWPTmnwD1"
      },
      "outputs": [],
      "source": [
        "import cv2\n",
        "import numpy as np\n",
        "import os\n",
        "import pandas as pd\n",
        "from scipy.fft import fft2, fftshift\n",
        "from scipy.stats import skew, kurtosis\n",
        "from sklearn.ensemble import RandomForestClassifier\n",
        "from sklearn.model_selection import train_test_split\n",
        "from sklearn.metrics import accuracy_score, classification_report, confusion_matrix\n",
        "import matplotlib.pyplot as plt\n",
        "import seaborn as sns\n"
      ]
    },
    {
      "cell_type": "markdown",
      "source": [
        "## Image And Labels Loading"
      ],
      "metadata": {
        "id": "pHUb7F5-vOoE"
      }
    },
    {
      "cell_type": "code",
      "source": [
        "def load_images_and_labels(image_directory):\n",
        "    \"\"\"Loads images from directory structure and returns patches and labels.\n",
        "\n",
        "    Args:\n",
        "        image_directory (str): Path to the directory containing image folders by class.\n",
        "\n",
        "    Returns:\n",
        "        tuple: Patches (list of image patches), labels (list of numerical labels), class_names (list of class names)\n",
        "    \"\"\"\n",
        "    all_patches = []\n",
        "    all_labels = []\n",
        "    class_names = []\n",
        "    class_label_map = {}\n",
        "\n",
        "    terrain_classes = os.listdir(image_directory) # Example: get class names from subfolders\n",
        "    class_names = terrain_classes # Store class names for evaluation output\n",
        "    class_label_map = {terrain_classes[i]: i for i in range(len(terrain_classes))} # Map class names to numerical labels\n",
        "\n",
        "\n",
        "    for terrain_class in terrain_classes:\n",
        "        class_dir = os.path.join(image_directory, terrain_class)\n",
        "        if not os.path.isdir(class_dir): # Skip if not a directory\n",
        "            continue\n",
        "        for image_file in os.listdir(class_dir):\n",
        "            if image_file.lower().endswith(('.png', '.jpg', '.jpeg', '.tiff', '.bmp')): # Common image formats\n",
        "                image_path = os.path.join(class_dir, image_file)\n",
        "                patches, labels_placeholder = load_and_preprocess_image(image_path) # load_and_preprocess_image now returns labels_placeholder\n",
        "\n",
        "                # **Correct label association here** -  Assuming class name is folder name\n",
        "                class_label_numeric = class_label_map[terrain_class]\n",
        "                image_labels = [class_label_numeric] * len(patches) # Assign class label to all patches from this image (simplified approach - adjust as needed)\n",
        "\n",
        "                all_patches.extend(patches)\n",
        "                all_labels.extend(image_labels) # Use the labels generated above\n",
        "    return all_patches, all_labels, class_names"
      ],
      "metadata": {
        "id": "nJZoosjavT-x"
      },
      "execution_count": null,
      "outputs": []
    },
    {
      "cell_type": "markdown",
      "source": [
        "## Data Pre-processing"
      ],
      "metadata": {
        "id": "-8CoBFKavXoJ"
      }
    },
    {
      "cell_type": "code",
      "source": [
        "def load_and_preprocess_image(image_path, patch_size=(64, 64)): # Patch size from paper\n",
        "    \"\"\"Loads an image, converts to grayscale, and extracts patches.\n",
        "\n",
        "    Args:\n",
        "        image_path (str): Path to the image file.\n",
        "        patch_size (tuple, optional): Size of patches (height, width). Defaults to (64, 64).\n",
        "\n",
        "    Returns:\n",
        "        tuple: patches (list of image patches), labels_placeholder (currently placeholder labels)\n",
        "    \"\"\"\n",
        "    img_bgr = cv2.imread(image_path)\n",
        "    if img_bgr is None:\n",
        "        return None, None  # Handle cases where image loading fails\n",
        "\n",
        "    img_gray = cv2.cvtColor(img_bgr, cv2.COLOR_BGR2GRAY)\n",
        "\n",
        "    patches = []\n",
        "    labels = [] # You'll need to get labels associated with each patch/image\n",
        "    height, width = img_gray.shape\n",
        "    patch_h, patch_w = patch_size\n",
        "\n",
        "    # Extract patches - Non-overlapping for simplicity initially, consider overlapping later if desired\n",
        "    for i in range(0, height - patch_h + 1, patch_h):\n",
        "        for j in range(0, width - patch_w + 1, patch_w):\n",
        "            patch = img_gray[i:i + patch_h, j:j + patch_w]\n",
        "            patches.append(patch)\n",
        "            # **IMPORTANT:** You'll need a way to associate labels with these patches.\n",
        "            # This will depend on your dataset's structure. Placeholder label for now.\n",
        "            labels.append(\"UnknownLabel\") # Replace with actual label retrieval mechanism\n",
        "    return patches, labels"
      ],
      "metadata": {
        "id": "n4VOmmbJveHx"
      },
      "execution_count": null,
      "outputs": []
    },
    {
      "cell_type": "markdown",
      "source": [
        "## Extracting Features"
      ],
      "metadata": {
        "id": "lGZxI3phvhtC"
      }
    },
    {
      "cell_type": "code",
      "source": [
        "def extract_fft_features(patch, feature_vector_length=200, band_strategy=\"radial\"): # Added band_strategy parameter\n",
        "    \"\"\"Extracts FFT-based features from an image patch.\n",
        "\n",
        "    Args:\n",
        "        patch (np.array): 2D grayscale image patch.\n",
        "        feature_vector_length (int, optional): Desired length of the FFT feature vector. Defaults to 200.\n",
        "        band_strategy (str, optional): Strategy for band-based feature extraction ('radial', 'rectangular', 'none'). Defaults to \"radial\".\n",
        "\n",
        "    Returns:\n",
        "        np.array: FFT feature vector.\n",
        "    \"\"\"\n",
        "    f_transform = fft2(patch)\n",
        "    magnitude_spectrum = np.abs(fftshift(f_transform)) # Shift for visualization/band definition, processing can be done without shift\n",
        "\n",
        "    patch_size = patch.shape[0] # Assumes square patch\n",
        "    center_x, center_y = patch_size // 2, patch_size // 2\n",
        "\n",
        "    fft_features = []\n",
        "\n",
        "    if band_strategy == \"radial\":\n",
        "        # Example Radial Band Strategy (Experiment with band definitions!)\n",
        "        num_bands = feature_vector_length # or adjust num_bands based on desired feature vector length\n",
        "        max_radius = patch_size // 2 # Max radius from center\n",
        "        radii = np.linspace(0, max_radius, num_bands + 1) # Define band boundaries\n",
        "\n",
        "        for i in range(num_bands):\n",
        "            inner_radius = radii[i]\n",
        "            outer_radius = radii[i+1]\n",
        "            band_magnitudes = []\n",
        "            for y in range(patch_size):\n",
        "                for x in range(patch_size):\n",
        "                    radius = np.sqrt((x - center_x)**2 + (y - center_y)**2)\n",
        "                    if inner_radius <= radius < outer_radius:\n",
        "                        band_magnitudes.append(magnitude_spectrum[y, x])\n",
        "                if band_magnitudes: # Avoid error if band is empty\n",
        "                    avg_magnitude = np.mean(band_magnitudes)\n",
        "                else:\n",
        "                    avg_magnitude = 0 # Or handle empty band differently if needed\n",
        "                fft_features.append(avg_magnitude)\n",
        "\n",
        "    elif band_strategy == \"rectangular\": # Example Rectangular Bands (Experiment!)\n",
        "        # Define rectangular bands in frequency domain - example bands, adjust as needed\n",
        "        num_bands_x = 10 # Example: 10 bands along x-frequency\n",
        "        num_bands_y = 20 # Example: 20 bands along y-frequency, to get 10*20=200 features\n",
        "        band_width_x = patch_size // num_bands_x\n",
        "        band_height_y = patch_size // num_bands_y\n",
        "\n",
        "        for i in range(num_bands_y):\n",
        "            for j in range(num_bands_x):\n",
        "                band_magnitudes = magnitude_spectrum[i*band_height_y:(i+1)*band_height_y, j*band_width_x:(j+1)*band_height_y,].flatten()\n",
        "                avg_magnitude = np.mean(band_magnitudes) if band_magnitudes.size > 0 else 0\n",
        "                fft_features.append(avg_magnitude)\n",
        "\n",
        "    elif band_strategy == \"none\": # Simple Reshape and Truncate (as baseline - less recommended for final model)\n",
        "        fft_features = magnitude_spectrum.reshape(-1)[:feature_vector_length]\n",
        "\n",
        "    return np.array(fft_features[:feature_vector_length]) # Ensure exactly feature_vector_length features"
      ],
      "metadata": {
        "id": "T5IYwAMQvmeh"
      },
      "execution_count": null,
      "outputs": []
    },
    {
      "cell_type": "markdown",
      "source": [
        "## Extracting Statistical Features"
      ],
      "metadata": {
        "id": "Nb9GaRcZvqL5"
      }
    },
    {
      "cell_type": "code",
      "source": [
        "def extract_statistical_features(patch):\n",
        "    \"\"\"Extracts statistical features from an image patch in spatial domain.\n",
        "\n",
        "    Args:\n",
        "        patch (np.array): 2D grayscale image patch.\n",
        "\n",
        "    Returns:\n",
        "        list: List of statistical features [mean, std, skewness, kurtosis, energy, entropy].\n",
        "    \"\"\"\n",
        "    mean_val = np.mean(patch)\n",
        "    std_dev = np.std(patch)\n",
        "    patch_skewness = skew(patch.flatten()) # Flatten to 1D for skew/kurtosis\n",
        "    patch_kurtosis = kurtosis(patch.flatten())\n",
        "    energy = np.sum(patch**2)\n",
        "    # Entropy calculation (using normalized histogram - basic entropy)\n",
        "    hist, _ = np.histogram(patch.flatten(), bins=256, range=[0, 256], density=True) # Normalized histogram\n",
        "    entropy_val = -np.sum(hist * np.log2(hist + 1e-9)) # Add small epsilon to avoid log(0)\n",
        "\n",
        "    return [mean_val, std_dev, patch_skewness, patch_kurtosis, energy, entropy_val]"
      ],
      "metadata": {
        "id": "1PIJ68s_vvjZ"
      },
      "execution_count": null,
      "outputs": []
    },
    {
      "cell_type": "markdown",
      "source": [
        "## Extracting Features From The Patches"
      ],
      "metadata": {
        "id": "85jL7s_1vy84"
      }
    },
    {
      "cell_type": "code",
      "source": [
        "def extract_features_from_patches(patches, fft_feature_vector_length=200, fft_band_strategy=\"radial\"):\n",
        "    \"\"\"Extracts both FFT-based and statistical features from a list of patches.\n",
        "\n",
        "    Args:\n",
        "        patches (list): List of image patches (np.array).\n",
        "        fft_feature_vector_length (int, optional): Length of FFT feature vector. Defaults to 200.\n",
        "        fft_band_strategy (str, optional): FFT band strategy ('radial', 'rectangular', 'none'). Defaults to \"radial\".\n",
        "\n",
        "    Returns:\n",
        "        np.array: Combined feature matrix (num_patches x total_features).\n",
        "    \"\"\"\n",
        "    all_fft_features = []\n",
        "    all_statistical_features = []\n",
        "\n",
        "    for patch in patches:\n",
        "        fft_features = extract_fft_features(patch, feature_vector_length=fft_feature_vector_length, band_strategy=fft_band_strategy)\n",
        "        statistical_features = extract_statistical_features(patch)\n",
        "\n",
        "        all_fft_features.append(fft_features)\n",
        "        all_statistical_features.append(statistical_features)\n",
        "\n",
        "    all_fft_features = np.array(all_fft_features)\n",
        "    all_statistical_features = np.array(all_statistical_features)\n",
        "    combined_features = np.concatenate((all_fft_features, all_statistical_features), axis=1)\n",
        "    return combined_features"
      ],
      "metadata": {
        "id": "cCwA2evKv49Q"
      },
      "execution_count": null,
      "outputs": []
    },
    {
      "cell_type": "markdown",
      "source": [
        "## Model Training"
      ],
      "metadata": {
        "id": "XD-DmBCnv7_B"
      }
    },
    {
      "cell_type": "code",
      "source": [
        "def train_random_forest(X_train, y_train, random_state=42):\n",
        "    \"\"\"Trains a Random Forest Classifier.\n",
        "\n",
        "    Args:\n",
        "        X_train (np.array): Training feature matrix.\n",
        "        y_train (np.array): Training labels.\n",
        "        random_state (int, optional): Random state for reproducibility. Defaults to 42.\n",
        "\n",
        "    Returns:\n",
        "        RandomForestClassifier: Trained Random Forest model.\n",
        "    \"\"\"\n",
        "    rf_classifier = RandomForestClassifier(random_state=random_state)\n",
        "    rf_classifier.fit(X_train, y_train)\n",
        "    return rf_classifier"
      ],
      "metadata": {
        "id": "5_GFcHYPwAeQ"
      },
      "execution_count": null,
      "outputs": []
    },
    {
      "cell_type": "markdown",
      "source": [
        "## Model Evaluation"
      ],
      "metadata": {
        "id": "J1xFSBTrwDtg"
      }
    },
    {
      "cell_type": "code",
      "source": [
        "def evaluate_model(model, X_test, y_test, class_names=None):\n",
        "    \"\"\"Evaluates the trained model and prints metrics.\n",
        "\n",
        "    Args:\n",
        "        model (RandomForestClassifier): Trained model.\n",
        "        X_test (np.array): Test feature matrix.\n",
        "        y_test (np.array): Test labels.\n",
        "        class_names (list, optional): List of class names for confusion matrix labels. Defaults to None.\n",
        "\n",
        "    Returns:\n",
        "        tuple: (accuracy, classification_report_dict, confusion_matrix)\n",
        "    \"\"\"\n",
        "    y_pred = model.predict(X_test)\n",
        "    accuracy = accuracy_score(y_test, y_pred)\n",
        "    print(f\"Accuracy: {accuracy:.4f}\")\n",
        "    print(\"\\nClassification Report:\")\n",
        "    report = classification_report(y_test, y_pred, target_names=class_names, output_dict=True) # Get report as dict\n",
        "    print(classification_report(y_test, y_pred, target_names=class_names)) # Print string report\n",
        "\n",
        "    print(\"\\nConfusion Matrix:\")\n",
        "    cm = confusion_matrix(y_test, y_pred)\n",
        "    plt.figure(figsize=(8, 6))\n",
        "    sns.heatmap(cm, annot=True, fmt=\"d\", cmap=\"Blues\",\n",
        "                xticklabels=class_names if class_names else sorted(np.unique(y_test)), # Class names for labels\n",
        "                yticklabels=class_names if class_names else sorted(np.unique(y_test)))\n",
        "    plt.xlabel('Predicted Label')\n",
        "    plt.ylabel('True Label')\n",
        "    plt.title('Confusion Matrix')\n",
        "    plt.show()\n",
        "    return accuracy, report, cm # Return metrics for analysis\n"
      ],
      "metadata": {
        "id": "_Qqut0ufwNDD"
      },
      "execution_count": null,
      "outputs": []
    },
    {
      "cell_type": "markdown",
      "source": [
        "## Main"
      ],
      "metadata": {
        "id": "h7nvlQ1KwOsw"
      }
    },
    {
      "cell_type": "code",
      "source": [
        "def main():\n",
        "    \"\"\"Main function to execute Mars terrain classification pipeline.\"\"\"\n",
        "    image_directory = \"path/to/your/mars_images\"  # **Replace with your actual image directory**\n",
        "    patches, labels, class_names = load_images_and_labels(image_directory) # Modified load function to return class names\n",
        "\n",
        "    if not patches:\n",
        "        print(\"No patches loaded. Exiting.\")\n",
        "        return\n",
        "\n",
        "    print(\"Extracting features...\")\n",
        "    combined_features = extract_features_from_patches(patches, fft_feature_vector_length=200, fft_band_strategy=\"radial\") # Choose band strategy\n",
        "\n",
        "    X = combined_features\n",
        "    y = labels\n",
        "\n",
        "    X_train, X_test, y_train, y_test = train_test_split(X, y, test_size=0.2, random_state=42, stratify=y)\n",
        "\n",
        "    print(\"Training Random Forest...\")\n",
        "    rf_model = train_random_forest(X_train, y_train)\n",
        "\n",
        "    print(\"Evaluating Model...\")\n",
        "    evaluate_model(rf_model, X_test, y_test, class_names=class_names) # Pass class names for better evaluation output\n",
        "\n",
        "\n",
        "if __name__ == \"__main__\":\n",
        "    main()"
      ],
      "metadata": {
        "id": "0ERn2V97wQFQ"
      },
      "execution_count": null,
      "outputs": []
    }
  ]
}